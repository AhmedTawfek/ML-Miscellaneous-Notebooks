{
  "nbformat": 4,
  "nbformat_minor": 0,
  "metadata": {
    "colab": {
      "name": "LSTM for Mozart Music Generation.ipynb",
      "provenance": [],
      "collapsed_sections": []
    },
    "kernelspec": {
      "name": "python3",
      "display_name": "Python 3"
    },
    "accelerator": "GPU"
  },
  "cells": [
    {
      "cell_type": "markdown",
      "metadata": {
        "id": "2n5s0D_-IDVG",
        "colab_type": "text"
      },
      "source": [
        "### Imports"
      ]
    },
    {
      "cell_type": "code",
      "metadata": {
        "id": "pC_gxpvDUm07",
        "colab_type": "code",
        "outputId": "ea9b2c39-74b3-49c8-ce4c-c19cfb56246a",
        "colab": {
          "base_uri": "https://localhost:8080/",
          "height": 34
        }
      },
      "source": [
        "%tensorflow_version 1.x\n",
        "import glob\n",
        "import numpy as np\n",
        "from itertools import chain\n",
        "from music21 import converter, instrument, note, chord, stream\n",
        "from keras.utils.np_utils import to_categorical\n",
        "from keras.models import Sequential\n",
        "from keras.layers import Dense, CuDNNLSTM, Dropout\n",
        "from sklearn.model_selection import train_test_split\n",
        "from keras.callbacks import ModelCheckpoint\n",
        "import random"
      ],
      "execution_count": 0,
      "outputs": [
        {
          "output_type": "stream",
          "text": [
            "Using TensorFlow backend.\n"
          ],
          "name": "stderr"
        }
      ]
    },
    {
      "cell_type": "markdown",
      "metadata": {
        "id": "Te2vKkBs1RuW",
        "colab_type": "text"
      },
      "source": [
        "### Mounting google drive as a drive in the cloud"
      ]
    },
    {
      "cell_type": "code",
      "metadata": {
        "id": "3lqkMoYoVq9M",
        "colab_type": "code",
        "outputId": "5c619e31-f035-4639-b505-eab5787a17c3",
        "colab": {
          "base_uri": "https://localhost:8080/",
          "height": 122
        }
      },
      "source": [
        "from google.colab import drive\n",
        "drive.mount('/content/gdrive', force_remount=True) \n",
        "dataset_path = \"gdrive/My Drive/ML/music/Mozart/\""
      ],
      "execution_count": 0,
      "outputs": [
        {
          "output_type": "stream",
          "text": [
            "Go to this URL in a browser: https://accounts.google.com/o/oauth2/auth?client_id=947318989803-6bn6qk8qdgf4n4g3pfee6491hc0brc4i.apps.googleusercontent.com&redirect_uri=urn%3Aietf%3Awg%3Aoauth%3A2.0%3Aoob&scope=email%20https%3A%2F%2Fwww.googleapis.com%2Fauth%2Fdocs.test%20https%3A%2F%2Fwww.googleapis.com%2Fauth%2Fdrive%20https%3A%2F%2Fwww.googleapis.com%2Fauth%2Fdrive.photos.readonly%20https%3A%2F%2Fwww.googleapis.com%2Fauth%2Fpeopleapi.readonly&response_type=code\n",
            "\n",
            "Enter your authorization code:\n",
            "··········\n",
            "Mounted at /content/gdrive\n"
          ],
          "name": "stdout"
        }
      ]
    },
    {
      "cell_type": "markdown",
      "metadata": {
        "id": "jYX3NQH01ZaH",
        "colab_type": "text"
      },
      "source": [
        "### Parsing Midi files:\n",
        "Each file is parsed to notes and chords. If it is a chord, it is converted to a string so all contents. After this part, each file is converted to a list of consecutive notes and chords in string format and all lists are appended to the main list."
      ]
    },
    {
      "cell_type": "code",
      "metadata": {
        "id": "57FWoWVaU9Zu",
        "colab_type": "code",
        "outputId": "8734ea0a-4641-4246-c364-dbfa3b32fb9f",
        "colab": {
          "base_uri": "https://localhost:8080/",
          "height": 357
        }
      },
      "source": [
        "all_notes = []\n",
        "for i, file in enumerate(glob.glob(dataset_path + \"*.mid\")):\n",
        "  print(i, file)\n",
        "  midi = converter.parse(file)\n",
        "  parts = instrument.partitionByInstrument(midi)\n",
        "  if parts: # file has instrument parts\n",
        "      notes_to_parse = parts.parts[0].recurse()\n",
        "  else: # file has notes in a flat structure\n",
        "      notes_to_parse = midi.flat.notes\n",
        "\n",
        "  notes = []\n",
        "  for element in notes_to_parse:\n",
        "      if isinstance(element, note.Note):\n",
        "          notes.append(str(element.pitch))\n",
        "      elif isinstance(element, chord.Chord):\n",
        "          notes.append('.'.join(str(n) for n in element.normalOrder))\n",
        "  all_notes.append(notes)\n",
        "all_notes = [notes for notes in all_notes if len(notes) > 100] # Filter short files"
      ],
      "execution_count": 0,
      "outputs": [
        {
          "output_type": "stream",
          "text": [
            "0 gdrive/My Drive/ML/music/Mozart/mfig.mid\n",
            "1 gdrive/My Drive/ML/music/Mozart/krebs.mid\n",
            "2 gdrive/My Drive/ML/music/Mozart/magflute.mid\n",
            "3 gdrive/My Drive/ML/music/Mozart/mozk211b.mid\n",
            "4 gdrive/My Drive/ML/music/Mozart/mozk218b.mid\n",
            "5 gdrive/My Drive/ML/music/Mozart/mozk281b.mid\n",
            "6 gdrive/My Drive/ML/music/Mozart/mozk310c.mid\n",
            "7 gdrive/My Drive/ML/music/Mozart/mozk309b.mid\n",
            "8 gdrive/My Drive/ML/music/Mozart/mozk311b.mid\n",
            "9 gdrive/My Drive/ML/music/Mozart/mozk331b.mid\n",
            "10 gdrive/My Drive/ML/music/Mozart/mozk331c.mid\n",
            "11 gdrive/My Drive/ML/music/Mozart/mozk332b.mid\n",
            "12 gdrive/My Drive/ML/music/Mozart/mozk450b.mid\n",
            "13 gdrive/My Drive/ML/music/Mozart/mozk488b.mid\n",
            "14 gdrive/My Drive/ML/music/Mozart/mozk545b.mid\n",
            "15 gdrive/My Drive/ML/music/Mozart/mozk545a.mid\n",
            "16 gdrive/My Drive/ML/music/Mozart/mozk545c.mid\n",
            "17 gdrive/My Drive/ML/music/Mozart/mozk622b.mid\n",
            "18 gdrive/My Drive/ML/music/Mozart/mzflqnar.mid\n",
            "19 gdrive/My Drive/ML/music/Mozart/mtmoz1.mid\n"
          ],
          "name": "stdout"
        }
      ]
    },
    {
      "cell_type": "markdown",
      "metadata": {
        "id": "S2wz_H_-2sVC",
        "colab_type": "text"
      },
      "source": [
        "Extracting distinct nodes and inferring the number of classes that the model needs to handle. Also creating a mapping from each string to a numerical value.\n"
      ]
    },
    {
      "cell_type": "code",
      "metadata": {
        "id": "cmwdMfcqbGSY",
        "colab_type": "code",
        "outputId": "11865593-8ad6-4096-8f22-2d2e1256d9eb",
        "colab": {
          "base_uri": "https://localhost:8080/",
          "height": 34
        }
      },
      "source": [
        "notes_flattened = list(chain.from_iterable(all_notes))\n",
        "pitch_names = sorted(set(notes_flattened))\n",
        "print(len(pitch_names))\n",
        "note_to_int = dict((note, number) for number, note in enumerate(pitch_names))"
      ],
      "execution_count": 0,
      "outputs": [
        {
          "output_type": "stream",
          "text": [
            "200\n"
          ],
          "name": "stdout"
        }
      ]
    },
    {
      "cell_type": "markdown",
      "metadata": {
        "id": "iyYpqkOt3Kcm",
        "colab_type": "text"
      },
      "source": [
        "For every file, a window of size sequence_length scans the notes of that file and chooses that window as input and the following note as output."
      ]
    },
    {
      "cell_type": "code",
      "metadata": {
        "id": "IWmX63MDVYcD",
        "colab_type": "code",
        "colab": {}
      },
      "source": [
        "seq_length = 50\n",
        "X = []\n",
        "y = []\n",
        "for notes in all_notes:\n",
        "  mapped_notes = [note_to_int[n] for n in notes]\n",
        "  for i in range(len(notes) - seq_length):\n",
        "    X.append(mapped_notes[i:i+seq_length])\n",
        "    y.append(mapped_notes[i+seq_length])"
      ],
      "execution_count": 0,
      "outputs": []
    },
    {
      "cell_type": "code",
      "metadata": {
        "id": "iFzVvn5Pjew6",
        "colab_type": "code",
        "outputId": "fb9ec65a-2630-4816-c9b1-4d99b6584c37",
        "colab": {
          "base_uri": "https://localhost:8080/",
          "height": 476
        }
      },
      "source": [
        "uniqueValues, occurCount = np.unique(y, return_counts=True)\n",
        " \n",
        "print(\"Unique Values : \" , uniqueValues)\n",
        "print(\"Occurrence Count : \", occurCount)"
      ],
      "execution_count": 0,
      "outputs": [
        {
          "output_type": "stream",
          "text": [
            "Unique Values :  [  0   1   2   3   4   5   6   7   8   9  10  11  12  13  14  15  16  17\n",
            "  18  19  20  21  22  23  24  25  26  27  28  29  30  31  32  33  34  35\n",
            "  36  37  38  39  40  41  42  43  44  45  46  47  48  49  50  51  52  53\n",
            "  54  55  56  57  58  59  60  61  62  63  64  65  66  67  68  69  70  71\n",
            "  72  73  74  75  76  77  78  79  80  81  82  83  84  85  86  87  88  89\n",
            "  90  91  92  93  94  95  96  97  98  99 100 101 102 103 104 105 106 107\n",
            " 108 109 110 111 112 113 114 115 116 117 118 119 120 121 122 123 124 125\n",
            " 126 127 128 129 130 131 132 133 134 135 136 137 138 139 140 141 142 143\n",
            " 144 145 146 147 148 149 150 151 152 153 154 155 156 157 158 159 160 161\n",
            " 162 163 164 165 166 167 168 169 170 171 172 173 174 175 176 177 178 179\n",
            " 180 181 182 183 184 185 186 187 188 189 190 191 192 193 194 195 196 197\n",
            " 198 199]\n",
            "Occurrence Count :  [  45    1   92    1    3    1   33    3   18    4  201   15   31    7\n",
            "   32    3   72    5    3    3    6    7   33   43    1    2    5    1\n",
            "    1   49   23   32   79   12  106  156    1   14    2    6    3   40\n",
            "   52   27    1   76    1    1   84    8    6    5    1   27   70   12\n",
            "   87   23   28   60    2   16    3   72    9    1   33   93    3   10\n",
            "    1    1   38  131    4    5    7    1   50   13   71   26   20   23\n",
            "   58    7    2   32   10    3    2  152   25   29    1    1    7   35\n",
            "   13  112    4    3    2   54   49   61    5   13   21  129   22   14\n",
            "   65    1   32    4    1   13   16    4   62    4   79  146    9    6\n",
            "    2   17  127    1   35   14   88    3   45    9  177  912  852  884\n",
            "    4    3   90  353  329  227    1    5  107  664  683  407    3    5\n",
            "   91  220  418  262    6  191  733  775  290    1   39  363 1024 1062\n",
            "  342   16  105  201  348   44   36  397  637  900   91    1   30  203\n",
            "  257  466    9   31  277  452  780   24   51  151  222  303    3  118\n",
            "  715  708  783    5]\n"
          ],
          "name": "stdout"
        }
      ]
    },
    {
      "cell_type": "markdown",
      "metadata": {
        "id": "pPX1i4yo4neF",
        "colab_type": "text"
      },
      "source": [
        "Lists are siwtched to numpy arrays and outputs are switched to one_hot encoding so that the model is able to handle them."
      ]
    },
    {
      "cell_type": "code",
      "metadata": {
        "id": "mvmwOFlXfRqz",
        "colab_type": "code",
        "outputId": "1188fe79-79ad-4867-a3c6-2ac0aa7104ad",
        "colab": {
          "base_uri": "https://localhost:8080/",
          "height": 34
        }
      },
      "source": [
        "X = np.array(X)\n",
        "X = X.reshape(X.shape[0], X.shape[1], 1)\n",
        "X = X / len(pitch_names) # normalize input\n",
        "y = to_categorical(y)\n",
        "print(X.shape)"
      ],
      "execution_count": 0,
      "outputs": [
        {
          "output_type": "stream",
          "text": [
            "(23933, 50, 1)\n"
          ],
          "name": "stdout"
        }
      ]
    },
    {
      "cell_type": "markdown",
      "metadata": {
        "id": "jZ1rMTgN5WI7",
        "colab_type": "text"
      },
      "source": [
        "### Model Architecture:\n",
        "2 layers of LSTM node, the first one is of size 128 or 256 nodes and the second one is of size 256 or 512 nodes. Dropout regularization technique is used to prevent nodes from depending on each others. 1 hidden layer of size 256 is appended to the model and finally the classification layer."
      ]
    },
    {
      "cell_type": "code",
      "metadata": {
        "id": "TRFK5bNdfUlL",
        "colab_type": "code",
        "colab": {}
      },
      "source": [
        "def LSTM_model(X, n_notes):\n",
        "  model = Sequential()\n",
        "  model.add(CuDNNLSTM(256, input_shape=(X.shape[1], 1), return_sequences=True))\n",
        "  model.add(Dropout(0.2))\n",
        "  model.add(CuDNNLSTM(512))\n",
        "  model.add(Dropout(0.2))\n",
        "  # model.add(CuDNNLSTM(128))\n",
        "  model.add(Dense(256, activation='relu'))\n",
        "  model.add(Dropout(0.2))\n",
        "  model.add(Dense(n_notes, activation='softmax'))\n",
        "  return model"
      ],
      "execution_count": 0,
      "outputs": []
    },
    {
      "cell_type": "markdown",
      "metadata": {
        "id": "brDQ96Sa6NEg",
        "colab_type": "text"
      },
      "source": [
        "The model uses categorical crossentropy as a loss function and adam optimizer. We also checkpoint the best weights during training so that they are loaded the next time the model is trained and not start from scratch.\n",
        "Batch size is 128 because this makes the model complete one epoch more faster."
      ]
    },
    {
      "cell_type": "code",
      "metadata": {
        "id": "fHDgGl5_veJd",
        "colab_type": "code",
        "outputId": "0c834681-19aa-47b6-aaa0-f6323a93db05",
        "colab": {
          "base_uri": "https://localhost:8080/",
          "height": 1000
        }
      },
      "source": [
        "model = LSTM_model(X, len(pitch_names))\n",
        "# model.load_weights('gdrive/My Drive/ML/LSTM_music_weights_ReducedMozart_seq50_256_512_512.hdf5')\n",
        "model.compile(loss='categorical_crossentropy', optimizer='adam', metrics=['accuracy'])\n",
        "checkpointer = ModelCheckpoint(\n",
        "    filepath='gdrive/My Drive/ML/LSTM_music_weights_ReducedMozart_seq50_256_512_512.hdf5',\n",
        "    monitor='loss', \n",
        "    verbose=1, \n",
        "    save_best_only=True) # To Checkpoint weights\n",
        "model.fit(X, y, callbacks=[checkpointer], epochs=100, batch_size=256)\n",
        "model.save('gdrive/My Drive/ML/LSTM_mozart_model_ReducedMozart_seq50_256_512_512.h5')"
      ],
      "execution_count": 0,
      "outputs": [
        {
          "output_type": "stream",
          "text": [
            "Epoch 1/100\n",
            "23933/23933 [==============================] - 12s 500us/step - loss: 4.3294 - acc: 0.0359\n",
            "\n",
            "Epoch 00001: loss improved from inf to 4.32940, saving model to gdrive/My Drive/ML/LSTM_music_weights_ReducedMozart_seq50_256_512_512.hdf5\n",
            "Epoch 2/100\n",
            "23933/23933 [==============================] - 11s 449us/step - loss: 4.1752 - acc: 0.0425\n",
            "\n",
            "Epoch 00002: loss improved from 4.32940 to 4.17521, saving model to gdrive/My Drive/ML/LSTM_music_weights_ReducedMozart_seq50_256_512_512.hdf5\n",
            "Epoch 3/100\n",
            "23933/23933 [==============================] - 11s 450us/step - loss: 4.1131 - acc: 0.0473\n",
            "\n",
            "Epoch 00003: loss improved from 4.17521 to 4.11306, saving model to gdrive/My Drive/ML/LSTM_music_weights_ReducedMozart_seq50_256_512_512.hdf5\n",
            "Epoch 4/100\n",
            "23933/23933 [==============================] - 11s 453us/step - loss: 4.0691 - acc: 0.0520\n",
            "\n",
            "Epoch 00004: loss improved from 4.11306 to 4.06913, saving model to gdrive/My Drive/ML/LSTM_music_weights_ReducedMozart_seq50_256_512_512.hdf5\n",
            "Epoch 5/100\n",
            "23933/23933 [==============================] - 11s 449us/step - loss: 4.0445 - acc: 0.0533\n",
            "\n",
            "Epoch 00005: loss improved from 4.06913 to 4.04454, saving model to gdrive/My Drive/ML/LSTM_music_weights_ReducedMozart_seq50_256_512_512.hdf5\n",
            "Epoch 6/100\n",
            "23933/23933 [==============================] - 11s 448us/step - loss: 4.0155 - acc: 0.0558\n",
            "\n",
            "Epoch 00006: loss improved from 4.04454 to 4.01549, saving model to gdrive/My Drive/ML/LSTM_music_weights_ReducedMozart_seq50_256_512_512.hdf5\n",
            "Epoch 7/100\n",
            "23933/23933 [==============================] - 11s 448us/step - loss: 3.9794 - acc: 0.0586\n",
            "\n",
            "Epoch 00007: loss improved from 4.01549 to 3.97935, saving model to gdrive/My Drive/ML/LSTM_music_weights_ReducedMozart_seq50_256_512_512.hdf5\n",
            "Epoch 8/100\n",
            "23933/23933 [==============================] - 11s 451us/step - loss: 3.9388 - acc: 0.0649\n",
            "\n",
            "Epoch 00008: loss improved from 3.97935 to 3.93877, saving model to gdrive/My Drive/ML/LSTM_music_weights_ReducedMozart_seq50_256_512_512.hdf5\n",
            "Epoch 9/100\n",
            "23933/23933 [==============================] - 11s 449us/step - loss: 3.8932 - acc: 0.0712\n",
            "\n",
            "Epoch 00009: loss improved from 3.93877 to 3.89317, saving model to gdrive/My Drive/ML/LSTM_music_weights_ReducedMozart_seq50_256_512_512.hdf5\n",
            "Epoch 10/100\n",
            "23933/23933 [==============================] - 11s 449us/step - loss: 3.8399 - acc: 0.0786\n",
            "\n",
            "Epoch 00010: loss improved from 3.89317 to 3.83993, saving model to gdrive/My Drive/ML/LSTM_music_weights_ReducedMozart_seq50_256_512_512.hdf5\n",
            "Epoch 11/100\n",
            "23933/23933 [==============================] - 11s 448us/step - loss: 3.7828 - acc: 0.0867\n",
            "\n",
            "Epoch 00011: loss improved from 3.83993 to 3.78280, saving model to gdrive/My Drive/ML/LSTM_music_weights_ReducedMozart_seq50_256_512_512.hdf5\n",
            "Epoch 12/100\n",
            "23933/23933 [==============================] - 11s 449us/step - loss: 3.7227 - acc: 0.0932\n",
            "\n",
            "Epoch 00012: loss improved from 3.78280 to 3.72270, saving model to gdrive/My Drive/ML/LSTM_music_weights_ReducedMozart_seq50_256_512_512.hdf5\n",
            "Epoch 13/100\n",
            "23933/23933 [==============================] - 11s 448us/step - loss: 3.6404 - acc: 0.1081\n",
            "\n",
            "Epoch 00013: loss improved from 3.72270 to 3.64041, saving model to gdrive/My Drive/ML/LSTM_music_weights_ReducedMozart_seq50_256_512_512.hdf5\n",
            "Epoch 14/100\n",
            "23933/23933 [==============================] - 11s 449us/step - loss: 3.5670 - acc: 0.1156\n",
            "\n",
            "Epoch 00014: loss improved from 3.64041 to 3.56699, saving model to gdrive/My Drive/ML/LSTM_music_weights_ReducedMozart_seq50_256_512_512.hdf5\n",
            "Epoch 15/100\n",
            "23933/23933 [==============================] - 11s 446us/step - loss: 3.4790 - acc: 0.1282\n",
            "\n",
            "Epoch 00015: loss improved from 3.56699 to 3.47903, saving model to gdrive/My Drive/ML/LSTM_music_weights_ReducedMozart_seq50_256_512_512.hdf5\n",
            "Epoch 16/100\n",
            "23933/23933 [==============================] - 11s 448us/step - loss: 3.3911 - acc: 0.1416\n",
            "\n",
            "Epoch 00016: loss improved from 3.47903 to 3.39109, saving model to gdrive/My Drive/ML/LSTM_music_weights_ReducedMozart_seq50_256_512_512.hdf5\n",
            "Epoch 17/100\n",
            "23933/23933 [==============================] - 11s 451us/step - loss: 3.2867 - acc: 0.1562\n",
            "\n",
            "Epoch 00017: loss improved from 3.39109 to 3.28673, saving model to gdrive/My Drive/ML/LSTM_music_weights_ReducedMozart_seq50_256_512_512.hdf5\n",
            "Epoch 18/100\n",
            "23933/23933 [==============================] - 11s 452us/step - loss: 3.1570 - acc: 0.1813\n",
            "\n",
            "Epoch 00018: loss improved from 3.28673 to 3.15701, saving model to gdrive/My Drive/ML/LSTM_music_weights_ReducedMozart_seq50_256_512_512.hdf5\n",
            "Epoch 19/100\n",
            "23933/23933 [==============================] - 11s 449us/step - loss: 3.0297 - acc: 0.2004\n",
            "\n",
            "Epoch 00019: loss improved from 3.15701 to 3.02965, saving model to gdrive/My Drive/ML/LSTM_music_weights_ReducedMozart_seq50_256_512_512.hdf5\n",
            "Epoch 20/100\n",
            "23933/23933 [==============================] - 11s 452us/step - loss: 2.9162 - acc: 0.2178\n",
            "\n",
            "Epoch 00020: loss improved from 3.02965 to 2.91623, saving model to gdrive/My Drive/ML/LSTM_music_weights_ReducedMozart_seq50_256_512_512.hdf5\n",
            "Epoch 21/100\n",
            "23933/23933 [==============================] - 11s 450us/step - loss: 2.7964 - acc: 0.2371\n",
            "\n",
            "Epoch 00021: loss improved from 2.91623 to 2.79636, saving model to gdrive/My Drive/ML/LSTM_music_weights_ReducedMozart_seq50_256_512_512.hdf5\n",
            "Epoch 22/100\n",
            "23933/23933 [==============================] - 11s 451us/step - loss: 2.6629 - acc: 0.2603\n",
            "\n",
            "Epoch 00022: loss improved from 2.79636 to 2.66285, saving model to gdrive/My Drive/ML/LSTM_music_weights_ReducedMozart_seq50_256_512_512.hdf5\n",
            "Epoch 23/100\n",
            "23933/23933 [==============================] - 11s 449us/step - loss: 2.5645 - acc: 0.2803\n",
            "\n",
            "Epoch 00023: loss improved from 2.66285 to 2.56448, saving model to gdrive/My Drive/ML/LSTM_music_weights_ReducedMozart_seq50_256_512_512.hdf5\n",
            "Epoch 24/100\n",
            "23933/23933 [==============================] - 11s 449us/step - loss: 2.4372 - acc: 0.3029\n",
            "\n",
            "Epoch 00024: loss improved from 2.56448 to 2.43721, saving model to gdrive/My Drive/ML/LSTM_music_weights_ReducedMozart_seq50_256_512_512.hdf5\n",
            "Epoch 25/100\n",
            "23933/23933 [==============================] - 11s 450us/step - loss: 2.3241 - acc: 0.3279\n",
            "\n",
            "Epoch 00025: loss improved from 2.43721 to 2.32407, saving model to gdrive/My Drive/ML/LSTM_music_weights_ReducedMozart_seq50_256_512_512.hdf5\n",
            "Epoch 26/100\n",
            "23933/23933 [==============================] - 11s 451us/step - loss: 2.2061 - acc: 0.3530\n",
            "\n",
            "Epoch 00026: loss improved from 2.32407 to 2.20612, saving model to gdrive/My Drive/ML/LSTM_music_weights_ReducedMozart_seq50_256_512_512.hdf5\n",
            "Epoch 27/100\n",
            "23933/23933 [==============================] - 11s 451us/step - loss: 2.1012 - acc: 0.3747\n",
            "\n",
            "Epoch 00027: loss improved from 2.20612 to 2.10119, saving model to gdrive/My Drive/ML/LSTM_music_weights_ReducedMozart_seq50_256_512_512.hdf5\n",
            "Epoch 28/100\n",
            "23933/23933 [==============================] - 11s 450us/step - loss: 2.0075 - acc: 0.3938\n",
            "\n",
            "Epoch 00028: loss improved from 2.10119 to 2.00745, saving model to gdrive/My Drive/ML/LSTM_music_weights_ReducedMozart_seq50_256_512_512.hdf5\n",
            "Epoch 29/100\n",
            "23933/23933 [==============================] - 11s 450us/step - loss: 1.9124 - acc: 0.4170\n",
            "\n",
            "Epoch 00029: loss improved from 2.00745 to 1.91236, saving model to gdrive/My Drive/ML/LSTM_music_weights_ReducedMozart_seq50_256_512_512.hdf5\n",
            "Epoch 30/100\n",
            "23933/23933 [==============================] - 11s 450us/step - loss: 1.8347 - acc: 0.4403\n",
            "\n",
            "Epoch 00030: loss improved from 1.91236 to 1.83473, saving model to gdrive/My Drive/ML/LSTM_music_weights_ReducedMozart_seq50_256_512_512.hdf5\n",
            "Epoch 31/100\n",
            "23933/23933 [==============================] - 11s 449us/step - loss: 1.7345 - acc: 0.4602\n",
            "\n",
            "Epoch 00031: loss improved from 1.83473 to 1.73451, saving model to gdrive/My Drive/ML/LSTM_music_weights_ReducedMozart_seq50_256_512_512.hdf5\n",
            "Epoch 32/100\n",
            "23933/23933 [==============================] - 11s 448us/step - loss: 1.6541 - acc: 0.4811\n",
            "\n",
            "Epoch 00032: loss improved from 1.73451 to 1.65412, saving model to gdrive/My Drive/ML/LSTM_music_weights_ReducedMozart_seq50_256_512_512.hdf5\n",
            "Epoch 33/100\n",
            "23933/23933 [==============================] - 11s 450us/step - loss: 1.5843 - acc: 0.5053\n",
            "\n",
            "Epoch 00033: loss improved from 1.65412 to 1.58433, saving model to gdrive/My Drive/ML/LSTM_music_weights_ReducedMozart_seq50_256_512_512.hdf5\n",
            "Epoch 34/100\n",
            "23933/23933 [==============================] - 11s 449us/step - loss: 1.5252 - acc: 0.5198\n",
            "\n",
            "Epoch 00034: loss improved from 1.58433 to 1.52518, saving model to gdrive/My Drive/ML/LSTM_music_weights_ReducedMozart_seq50_256_512_512.hdf5\n",
            "Epoch 35/100\n",
            "23933/23933 [==============================] - 11s 451us/step - loss: 1.4474 - acc: 0.5436\n",
            "\n",
            "Epoch 00035: loss improved from 1.52518 to 1.44741, saving model to gdrive/My Drive/ML/LSTM_music_weights_ReducedMozart_seq50_256_512_512.hdf5\n",
            "Epoch 36/100\n",
            "23933/23933 [==============================] - 11s 450us/step - loss: 1.3605 - acc: 0.5678\n",
            "\n",
            "Epoch 00036: loss improved from 1.44741 to 1.36052, saving model to gdrive/My Drive/ML/LSTM_music_weights_ReducedMozart_seq50_256_512_512.hdf5\n",
            "Epoch 37/100\n",
            "23933/23933 [==============================] - 11s 451us/step - loss: 1.3089 - acc: 0.5786\n",
            "\n",
            "Epoch 00037: loss improved from 1.36052 to 1.30885, saving model to gdrive/My Drive/ML/LSTM_music_weights_ReducedMozart_seq50_256_512_512.hdf5\n",
            "Epoch 38/100\n",
            "23933/23933 [==============================] - 11s 448us/step - loss: 1.2511 - acc: 0.5973\n",
            "\n",
            "Epoch 00038: loss improved from 1.30885 to 1.25106, saving model to gdrive/My Drive/ML/LSTM_music_weights_ReducedMozart_seq50_256_512_512.hdf5\n",
            "Epoch 39/100\n",
            "23933/23933 [==============================] - 11s 447us/step - loss: 1.1987 - acc: 0.6144\n",
            "\n",
            "Epoch 00039: loss improved from 1.25106 to 1.19873, saving model to gdrive/My Drive/ML/LSTM_music_weights_ReducedMozart_seq50_256_512_512.hdf5\n",
            "Epoch 40/100\n",
            "23933/23933 [==============================] - 11s 447us/step - loss: 1.1310 - acc: 0.6357\n",
            "\n",
            "Epoch 00040: loss improved from 1.19873 to 1.13099, saving model to gdrive/My Drive/ML/LSTM_music_weights_ReducedMozart_seq50_256_512_512.hdf5\n",
            "Epoch 41/100\n",
            "23933/23933 [==============================] - 11s 449us/step - loss: 1.0873 - acc: 0.6450\n",
            "\n",
            "Epoch 00041: loss improved from 1.13099 to 1.08734, saving model to gdrive/My Drive/ML/LSTM_music_weights_ReducedMozart_seq50_256_512_512.hdf5\n",
            "Epoch 42/100\n",
            "23933/23933 [==============================] - 11s 448us/step - loss: 1.0448 - acc: 0.6591\n",
            "\n",
            "Epoch 00042: loss improved from 1.08734 to 1.04480, saving model to gdrive/My Drive/ML/LSTM_music_weights_ReducedMozart_seq50_256_512_512.hdf5\n",
            "Epoch 43/100\n",
            "23933/23933 [==============================] - 11s 451us/step - loss: 0.9887 - acc: 0.6767\n",
            "\n",
            "Epoch 00043: loss improved from 1.04480 to 0.98871, saving model to gdrive/My Drive/ML/LSTM_music_weights_ReducedMozart_seq50_256_512_512.hdf5\n",
            "Epoch 44/100\n",
            "23933/23933 [==============================] - 11s 450us/step - loss: 0.9501 - acc: 0.6922\n",
            "\n",
            "Epoch 00044: loss improved from 0.98871 to 0.95011, saving model to gdrive/My Drive/ML/LSTM_music_weights_ReducedMozart_seq50_256_512_512.hdf5\n",
            "Epoch 45/100\n",
            "23933/23933 [==============================] - 11s 450us/step - loss: 0.9020 - acc: 0.7043\n",
            "\n",
            "Epoch 00045: loss improved from 0.95011 to 0.90199, saving model to gdrive/My Drive/ML/LSTM_music_weights_ReducedMozart_seq50_256_512_512.hdf5\n",
            "Epoch 46/100\n",
            "23933/23933 [==============================] - 11s 448us/step - loss: 0.8559 - acc: 0.7187\n",
            "\n",
            "Epoch 00046: loss improved from 0.90199 to 0.85593, saving model to gdrive/My Drive/ML/LSTM_music_weights_ReducedMozart_seq50_256_512_512.hdf5\n",
            "Epoch 47/100\n",
            "23933/23933 [==============================] - 11s 450us/step - loss: 0.8255 - acc: 0.7265\n",
            "\n",
            "Epoch 00047: loss improved from 0.85593 to 0.82552, saving model to gdrive/My Drive/ML/LSTM_music_weights_ReducedMozart_seq50_256_512_512.hdf5\n",
            "Epoch 48/100\n",
            "23933/23933 [==============================] - 11s 447us/step - loss: 0.7823 - acc: 0.7425\n",
            "\n",
            "Epoch 00048: loss improved from 0.82552 to 0.78233, saving model to gdrive/My Drive/ML/LSTM_music_weights_ReducedMozart_seq50_256_512_512.hdf5\n",
            "Epoch 49/100\n",
            "23933/23933 [==============================] - 11s 446us/step - loss: 0.7551 - acc: 0.7523\n",
            "\n",
            "Epoch 00049: loss improved from 0.78233 to 0.75507, saving model to gdrive/My Drive/ML/LSTM_music_weights_ReducedMozart_seq50_256_512_512.hdf5\n",
            "Epoch 50/100\n",
            "23933/23933 [==============================] - 11s 445us/step - loss: 0.7319 - acc: 0.7565\n",
            "\n",
            "Epoch 00050: loss improved from 0.75507 to 0.73192, saving model to gdrive/My Drive/ML/LSTM_music_weights_ReducedMozart_seq50_256_512_512.hdf5\n",
            "Epoch 51/100\n",
            "23933/23933 [==============================] - 11s 447us/step - loss: 0.6938 - acc: 0.7674\n",
            "\n",
            "Epoch 00051: loss improved from 0.73192 to 0.69384, saving model to gdrive/My Drive/ML/LSTM_music_weights_ReducedMozart_seq50_256_512_512.hdf5\n",
            "Epoch 52/100\n",
            "23933/23933 [==============================] - 11s 447us/step - loss: 0.6626 - acc: 0.7813\n",
            "\n",
            "Epoch 00052: loss improved from 0.69384 to 0.66261, saving model to gdrive/My Drive/ML/LSTM_music_weights_ReducedMozart_seq50_256_512_512.hdf5\n",
            "Epoch 53/100\n",
            "23933/23933 [==============================] - 11s 448us/step - loss: 0.6305 - acc: 0.7919\n",
            "\n",
            "Epoch 00053: loss improved from 0.66261 to 0.63048, saving model to gdrive/My Drive/ML/LSTM_music_weights_ReducedMozart_seq50_256_512_512.hdf5\n",
            "Epoch 54/100\n",
            "23933/23933 [==============================] - 11s 448us/step - loss: 0.6199 - acc: 0.7964\n",
            "\n",
            "Epoch 00054: loss improved from 0.63048 to 0.61993, saving model to gdrive/My Drive/ML/LSTM_music_weights_ReducedMozart_seq50_256_512_512.hdf5\n",
            "Epoch 55/100\n",
            "23933/23933 [==============================] - 11s 448us/step - loss: 0.6078 - acc: 0.8005\n",
            "\n",
            "Epoch 00055: loss improved from 0.61993 to 0.60778, saving model to gdrive/My Drive/ML/LSTM_music_weights_ReducedMozart_seq50_256_512_512.hdf5\n",
            "Epoch 56/100\n",
            "23933/23933 [==============================] - 11s 446us/step - loss: 0.5837 - acc: 0.8087\n",
            "\n",
            "Epoch 00056: loss improved from 0.60778 to 0.58367, saving model to gdrive/My Drive/ML/LSTM_music_weights_ReducedMozart_seq50_256_512_512.hdf5\n",
            "Epoch 57/100\n",
            "23933/23933 [==============================] - 11s 447us/step - loss: 0.5788 - acc: 0.8059\n",
            "\n",
            "Epoch 00057: loss improved from 0.58367 to 0.57877, saving model to gdrive/My Drive/ML/LSTM_music_weights_ReducedMozart_seq50_256_512_512.hdf5\n",
            "Epoch 58/100\n",
            "23933/23933 [==============================] - 11s 447us/step - loss: 0.5292 - acc: 0.8212\n",
            "\n",
            "Epoch 00058: loss improved from 0.57877 to 0.52916, saving model to gdrive/My Drive/ML/LSTM_music_weights_ReducedMozart_seq50_256_512_512.hdf5\n",
            "Epoch 59/100\n",
            "23933/23933 [==============================] - 11s 446us/step - loss: 0.5738 - acc: 0.8117\n",
            "\n",
            "Epoch 00059: loss did not improve from 0.52916\n",
            "Epoch 60/100\n",
            "23933/23933 [==============================] - 11s 448us/step - loss: 0.5217 - acc: 0.8283\n",
            "\n",
            "Epoch 00060: loss improved from 0.52916 to 0.52167, saving model to gdrive/My Drive/ML/LSTM_music_weights_ReducedMozart_seq50_256_512_512.hdf5\n",
            "Epoch 61/100\n",
            "23933/23933 [==============================] - 11s 448us/step - loss: 0.4722 - acc: 0.8444\n",
            "\n",
            "Epoch 00061: loss improved from 0.52167 to 0.47217, saving model to gdrive/My Drive/ML/LSTM_music_weights_ReducedMozart_seq50_256_512_512.hdf5\n",
            "Epoch 62/100\n",
            "23933/23933 [==============================] - 11s 446us/step - loss: 0.4649 - acc: 0.8449\n",
            "\n",
            "Epoch 00062: loss improved from 0.47217 to 0.46494, saving model to gdrive/My Drive/ML/LSTM_music_weights_ReducedMozart_seq50_256_512_512.hdf5\n",
            "Epoch 63/100\n",
            "23933/23933 [==============================] - 11s 448us/step - loss: 0.4678 - acc: 0.8463\n",
            "\n",
            "Epoch 00063: loss did not improve from 0.46494\n",
            "Epoch 64/100\n",
            "23933/23933 [==============================] - 11s 447us/step - loss: 0.4504 - acc: 0.8515\n",
            "\n",
            "Epoch 00064: loss improved from 0.46494 to 0.45039, saving model to gdrive/My Drive/ML/LSTM_music_weights_ReducedMozart_seq50_256_512_512.hdf5\n",
            "Epoch 65/100\n",
            "23933/23933 [==============================] - 11s 445us/step - loss: 0.4508 - acc: 0.8492\n",
            "\n",
            "Epoch 00065: loss did not improve from 0.45039\n",
            "Epoch 66/100\n",
            "23933/23933 [==============================] - 11s 449us/step - loss: 0.4409 - acc: 0.8513\n",
            "\n",
            "Epoch 00066: loss improved from 0.45039 to 0.44088, saving model to gdrive/My Drive/ML/LSTM_music_weights_ReducedMozart_seq50_256_512_512.hdf5\n",
            "Epoch 67/100\n",
            "23933/23933 [==============================] - 11s 451us/step - loss: 0.4182 - acc: 0.8622\n",
            "\n",
            "Epoch 00067: loss improved from 0.44088 to 0.41819, saving model to gdrive/My Drive/ML/LSTM_music_weights_ReducedMozart_seq50_256_512_512.hdf5\n",
            "Epoch 68/100\n",
            "23933/23933 [==============================] - 11s 451us/step - loss: 0.3957 - acc: 0.8691\n",
            "\n",
            "Epoch 00068: loss improved from 0.41819 to 0.39566, saving model to gdrive/My Drive/ML/LSTM_music_weights_ReducedMozart_seq50_256_512_512.hdf5\n",
            "Epoch 69/100\n",
            "23933/23933 [==============================] - 11s 451us/step - loss: 0.3690 - acc: 0.8805\n",
            "\n",
            "Epoch 00069: loss improved from 0.39566 to 0.36899, saving model to gdrive/My Drive/ML/LSTM_music_weights_ReducedMozart_seq50_256_512_512.hdf5\n",
            "Epoch 70/100\n",
            "23933/23933 [==============================] - 11s 451us/step - loss: 0.3566 - acc: 0.8803\n",
            "\n",
            "Epoch 00070: loss improved from 0.36899 to 0.35657, saving model to gdrive/My Drive/ML/LSTM_music_weights_ReducedMozart_seq50_256_512_512.hdf5\n",
            "Epoch 71/100\n",
            "23933/23933 [==============================] - 11s 449us/step - loss: 0.3616 - acc: 0.8804\n",
            "\n",
            "Epoch 00071: loss did not improve from 0.35657\n",
            "Epoch 72/100\n",
            "23933/23933 [==============================] - 11s 448us/step - loss: 0.3817 - acc: 0.8758\n",
            "\n",
            "Epoch 00072: loss did not improve from 0.35657\n",
            "Epoch 73/100\n",
            "23933/23933 [==============================] - 11s 449us/step - loss: 0.3549 - acc: 0.8824\n",
            "\n",
            "Epoch 00073: loss improved from 0.35657 to 0.35489, saving model to gdrive/My Drive/ML/LSTM_music_weights_ReducedMozart_seq50_256_512_512.hdf5\n",
            "Epoch 74/100\n",
            "23933/23933 [==============================] - 11s 449us/step - loss: 0.3445 - acc: 0.8865\n",
            "\n",
            "Epoch 00074: loss improved from 0.35489 to 0.34449, saving model to gdrive/My Drive/ML/LSTM_music_weights_ReducedMozart_seq50_256_512_512.hdf5\n",
            "Epoch 75/100\n",
            "23933/23933 [==============================] - 11s 452us/step - loss: 0.3552 - acc: 0.8837\n",
            "\n",
            "Epoch 00075: loss did not improve from 0.34449\n",
            "Epoch 76/100\n",
            "23933/23933 [==============================] - 11s 452us/step - loss: 0.3475 - acc: 0.8865\n",
            "\n",
            "Epoch 00076: loss did not improve from 0.34449\n",
            "Epoch 77/100\n",
            "23933/23933 [==============================] - 11s 453us/step - loss: 0.3027 - acc: 0.9024\n",
            "\n",
            "Epoch 00077: loss improved from 0.34449 to 0.30273, saving model to gdrive/My Drive/ML/LSTM_music_weights_ReducedMozart_seq50_256_512_512.hdf5\n",
            "Epoch 78/100\n",
            "23933/23933 [==============================] - 11s 449us/step - loss: 0.2950 - acc: 0.9016\n",
            "\n",
            "Epoch 00078: loss improved from 0.30273 to 0.29503, saving model to gdrive/My Drive/ML/LSTM_music_weights_ReducedMozart_seq50_256_512_512.hdf5\n",
            "Epoch 79/100\n",
            "23933/23933 [==============================] - 11s 450us/step - loss: 0.3344 - acc: 0.8902\n",
            "\n",
            "Epoch 00079: loss did not improve from 0.29503\n",
            "Epoch 80/100\n",
            "23933/23933 [==============================] - 11s 448us/step - loss: 0.3484 - acc: 0.8851\n",
            "\n",
            "Epoch 00080: loss did not improve from 0.29503\n",
            "Epoch 81/100\n",
            "23933/23933 [==============================] - 11s 446us/step - loss: 0.3545 - acc: 0.8858\n",
            "\n",
            "Epoch 00081: loss did not improve from 0.29503\n",
            "Epoch 82/100\n",
            "23933/23933 [==============================] - 11s 449us/step - loss: 0.2997 - acc: 0.8996\n",
            "\n",
            "Epoch 00082: loss did not improve from 0.29503\n",
            "Epoch 83/100\n",
            "23933/23933 [==============================] - 11s 450us/step - loss: 0.2746 - acc: 0.9100\n",
            "\n",
            "Epoch 00083: loss improved from 0.29503 to 0.27460, saving model to gdrive/My Drive/ML/LSTM_music_weights_ReducedMozart_seq50_256_512_512.hdf5\n",
            "Epoch 84/100\n",
            "23933/23933 [==============================] - 11s 452us/step - loss: 0.2835 - acc: 0.9065\n",
            "\n",
            "Epoch 00084: loss did not improve from 0.27460\n",
            "Epoch 85/100\n",
            "23933/23933 [==============================] - 11s 449us/step - loss: 0.4081 - acc: 0.8704\n",
            "\n",
            "Epoch 00085: loss did not improve from 0.27460\n",
            "Epoch 86/100\n",
            "23933/23933 [==============================] - 11s 452us/step - loss: 0.2895 - acc: 0.9066\n",
            "\n",
            "Epoch 00086: loss did not improve from 0.27460\n",
            "Epoch 87/100\n",
            "23933/23933 [==============================] - 11s 449us/step - loss: 0.2535 - acc: 0.9171\n",
            "\n",
            "Epoch 00087: loss improved from 0.27460 to 0.25352, saving model to gdrive/My Drive/ML/LSTM_music_weights_ReducedMozart_seq50_256_512_512.hdf5\n",
            "Epoch 88/100\n",
            "23933/23933 [==============================] - 11s 448us/step - loss: 0.2280 - acc: 0.9232\n",
            "\n",
            "Epoch 00088: loss improved from 0.25352 to 0.22799, saving model to gdrive/My Drive/ML/LSTM_music_weights_ReducedMozart_seq50_256_512_512.hdf5\n",
            "Epoch 89/100\n",
            "23933/23933 [==============================] - 11s 451us/step - loss: 0.2354 - acc: 0.9224\n",
            "\n",
            "Epoch 00089: loss did not improve from 0.22799\n",
            "Epoch 90/100\n",
            "23933/23933 [==============================] - 11s 451us/step - loss: 0.2471 - acc: 0.9197\n",
            "\n",
            "Epoch 00090: loss did not improve from 0.22799\n",
            "Epoch 91/100\n",
            "23933/23933 [==============================] - 11s 451us/step - loss: 0.2814 - acc: 0.9104\n",
            "\n",
            "Epoch 00091: loss did not improve from 0.22799\n",
            "Epoch 92/100\n",
            "23933/23933 [==============================] - 11s 451us/step - loss: 0.2457 - acc: 0.9196\n",
            "\n",
            "Epoch 00092: loss did not improve from 0.22799\n",
            "Epoch 93/100\n",
            "23933/23933 [==============================] - 11s 450us/step - loss: 0.2379 - acc: 0.9219\n",
            "\n",
            "Epoch 00093: loss did not improve from 0.22799\n",
            "Epoch 94/100\n",
            "23933/23933 [==============================] - 11s 450us/step - loss: 0.4367 - acc: 0.8735\n",
            "\n",
            "Epoch 00094: loss did not improve from 0.22799\n",
            "Epoch 95/100\n",
            "23933/23933 [==============================] - 11s 450us/step - loss: 0.4093 - acc: 0.8673\n",
            "\n",
            "Epoch 00095: loss did not improve from 0.22799\n",
            "Epoch 96/100\n",
            "23933/23933 [==============================] - 11s 452us/step - loss: 0.2482 - acc: 0.9192\n",
            "\n",
            "Epoch 00096: loss did not improve from 0.22799\n",
            "Epoch 97/100\n",
            "23933/23933 [==============================] - 11s 452us/step - loss: 0.2188 - acc: 0.9307\n",
            "\n",
            "Epoch 00097: loss improved from 0.22799 to 0.21878, saving model to gdrive/My Drive/ML/LSTM_music_weights_ReducedMozart_seq50_256_512_512.hdf5\n",
            "Epoch 98/100\n",
            "23933/23933 [==============================] - 11s 451us/step - loss: 0.1906 - acc: 0.9390\n",
            "\n",
            "Epoch 00098: loss improved from 0.21878 to 0.19064, saving model to gdrive/My Drive/ML/LSTM_music_weights_ReducedMozart_seq50_256_512_512.hdf5\n",
            "Epoch 99/100\n",
            "23933/23933 [==============================] - 11s 450us/step - loss: 0.1852 - acc: 0.9406\n",
            "\n",
            "Epoch 00099: loss improved from 0.19064 to 0.18518, saving model to gdrive/My Drive/ML/LSTM_music_weights_ReducedMozart_seq50_256_512_512.hdf5\n",
            "Epoch 100/100\n",
            "23933/23933 [==============================] - 11s 452us/step - loss: 0.1822 - acc: 0.9420\n",
            "\n",
            "Epoch 00100: loss improved from 0.18518 to 0.18217, saving model to gdrive/My Drive/ML/LSTM_music_weights_ReducedMozart_seq50_256_512_512.hdf5\n"
          ],
          "name": "stdout"
        }
      ]
    },
    {
      "cell_type": "markdown",
      "metadata": {
        "id": "QVCHMc4o6tCi",
        "colab_type": "text"
      },
      "source": [
        "### Music generation:\n",
        "Music is generated by selecting a random sample from the training set and pass it to the model to predict. the outcome of the model is appended to the input sequnce and now the new input to the model is only the last 20 notes of that sample and so on until 50 or more new notes are generated. The outputs are switched back to string format.\n",
        "Sometimes, the model tend to be biased towards one note, that's why we choose randomly between the highest 2 probabilities generated by the model to avoid this problem."
      ]
    },
    {
      "cell_type": "code",
      "metadata": {
        "id": "si_kmM6_zwai",
        "colab_type": "code",
        "colab": {}
      },
      "source": [
        "start = np.random.randint(0, X.shape[0], 1)\n",
        "int_to_note = dict((number, note) for number, note in enumerate(pitch_names))\n",
        "pattern = X[start]\n",
        "prediction_output = []\n",
        "for i in range(50):\n",
        "  start_input = pattern\n",
        "  output = model.predict(pattern, verbose=0)\n",
        "  # print(output)\n",
        "  # possible_outcomes = (-output).argsort()\n",
        "  # index1 = possible_outcomes[0][0]\n",
        "  # index2 = possible_outcomes[0][1]\n",
        "  # if random.choice((True, False)):\n",
        "  #   index = index1\n",
        "  # else:\n",
        "  #   index = index2\n",
        "  index = np.argmax(output)\n",
        "  result = int_to_note[index]\n",
        "  prediction_output.append(result)\n",
        "  pattern = pattern.reshape(pattern.shape[1])\n",
        "  pattern = np.append(pattern, index)\n",
        "  pattern = pattern[1:pattern.shape[0]]\n",
        "  pattern = pattern.reshape(1, pattern.shape[0], 1)  "
      ],
      "execution_count": 0,
      "outputs": []
    },
    {
      "cell_type": "markdown",
      "metadata": {
        "id": "W9l9NtPs9GSc",
        "colab_type": "text"
      },
      "source": [
        "Music21 library is used to generate music. Piano insturment takes as input the chord and produces the actual sound. Finally, the stream of notes is converted to a Midi file."
      ]
    },
    {
      "cell_type": "code",
      "metadata": {
        "id": "upfqQSwuPzX-",
        "colab_type": "code",
        "outputId": "82f6bad6-b522-4cc8-ebe0-4a8e81e8a8dc",
        "colab": {
          "base_uri": "https://localhost:8080/",
          "height": 34
        }
      },
      "source": [
        "offset = 0\n",
        "output_notes = []\n",
        "# create note and chord objects based on the values generated by the model\n",
        "for pattern in prediction_output:\n",
        "    # pattern is a chord\n",
        "    if ('.' in pattern) or pattern.isdigit():\n",
        "        notes_in_chord = pattern.split('.')\n",
        "        notes = []\n",
        "        for current_note in notes_in_chord:\n",
        "            new_note = note.Note(int(current_note))\n",
        "            new_note.storedInstrument = instrument.Piano()\n",
        "            notes.append(new_note)\n",
        "        new_chord = chord.Chord(notes)\n",
        "        new_chord.offset = offset\n",
        "        output_notes.append(new_chord)\n",
        "    else:\n",
        "        new_note = note.Note(pattern)\n",
        "        new_note.offset = offset\n",
        "        new_note.storedInstrument = instrument.Piano()\n",
        "        output_notes.append(new_note)\n",
        "    offset += 1\n",
        "\n",
        "midi_stream = stream.Stream(output_notes)\n",
        "midi_stream.write('midi', fp='gdrive/My Drive/ML/music/Mozart_top1notes_offset10.mid')"
      ],
      "execution_count": 0,
      "outputs": [
        {
          "output_type": "execute_result",
          "data": {
            "text/plain": [
              "'gdrive/My Drive/ML/music/Mozart_top1notes_offset10.mid'"
            ]
          },
          "metadata": {
            "tags": []
          },
          "execution_count": 37
        }
      ]
    },
    {
      "cell_type": "code",
      "metadata": {
        "id": "Ri0DhgHDG_Xe",
        "colab_type": "code",
        "colab": {}
      },
      "source": [
        ""
      ],
      "execution_count": 0,
      "outputs": []
    }
  ]
}