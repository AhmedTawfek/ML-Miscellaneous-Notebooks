{
  "nbformat": 4,
  "nbformat_minor": 0,
  "metadata": {
    "colab": {
      "name": "Stock prices time series prediction using MLP (scikit-learn and pandas).ipynb",
      "provenance": []
    },
    "kernelspec": {
      "display_name": "Python 3",
      "language": "python",
      "name": "python3"
    }
  },
  "cells": [
    {
      "cell_type": "code",
      "metadata": {
        "id": "CngrDzaAol1Q",
        "colab_type": "code",
        "colab": {}
      },
      "source": [
        "import numpy as np\n",
        "import pandas as pd\n",
        "import matplotlib.pyplot as plt\n",
        "\n",
        "from sklearn.linear_model import LinearRegression\n",
        "from sklearn.model_selection import train_test_split\n",
        "\n",
        "from sklearn.neural_network import MLPClassifier\n",
        "from sklearn.neural_network import MLPRegressor\n",
        "\n",
        "import sklearn.metrics as metrics"
      ],
      "execution_count": 0,
      "outputs": []
    },
    {
      "cell_type": "markdown",
      "metadata": {
        "id": "11bIxb4mol1T",
        "colab_type": "text"
      },
      "source": [
        "#### The following cell read the values from the csv file and read it into a dataframe"
      ]
    },
    {
      "cell_type": "code",
      "metadata": {
        "id": "4t8_N2-Uol1U",
        "colab_type": "code",
        "colab": {}
      },
      "source": [
        "df = pd.read_csv('sp500.csv')\n",
        "dataset = df.values"
      ],
      "execution_count": 0,
      "outputs": []
    },
    {
      "cell_type": "markdown",
      "metadata": {
        "id": "TF4wK7g1ol1W",
        "colab_type": "text"
      },
      "source": [
        "### Correlation matrix\n",
        "#### Calculating the correlation matrix, and extracting the values of the correlation with SP500 index"
      ]
    },
    {
      "cell_type": "code",
      "metadata": {
        "id": "SdDTboAQol1X",
        "colab_type": "code",
        "colab": {}
      },
      "source": [
        "corrmat = df.corr()\n",
        "values = corrmat['SP500'].values"
      ],
      "execution_count": 0,
      "outputs": []
    },
    {
      "cell_type": "markdown",
      "metadata": {
        "id": "g9_RKql-ol1Z",
        "colab_type": "text"
      },
      "source": [
        "#### Calculating the stock that is most correlated with the S&P Index from the Correlation Matrix"
      ]
    },
    {
      "cell_type": "code",
      "metadata": {
        "id": "18ZaaPnTol1Z",
        "colab_type": "code",
        "outputId": "cf1dc8a6-fe01-4be5-bf70-c368861a09d7",
        "colab": {}
      },
      "source": [
        "max = 0\n",
        "maxi = 0\n",
        "for i in range(2, 388):\n",
        "    if(abs(np.float(values[i])) > max ):\n",
        "        max = abs(np.float(values[i]))\n",
        "        maxi = i\n",
        "\n",
        "name = df.columns[maxi]\n",
        "print(name, values[maxi])"
      ],
      "execution_count": 0,
      "outputs": [
        {
          "output_type": "stream",
          "text": [
            "APH 0.9883608178608217\n"
          ],
          "name": "stdout"
        }
      ]
    },
    {
      "cell_type": "markdown",
      "metadata": {
        "id": "N2RuAdPtol1f",
        "colab_type": "text"
      },
      "source": [
        "### Changing DataFrame\n",
        "\n",
        "#### Using the column of the stock that is most correlated with the S&P Index which is the \"APH\" with correlation value equals to 0.988."
      ]
    },
    {
      "cell_type": "code",
      "metadata": {
        "id": "Ajb5J227ol1f",
        "colab_type": "code",
        "colab": {}
      },
      "source": [
        "df = df[[name]]"
      ],
      "execution_count": 0,
      "outputs": []
    },
    {
      "cell_type": "markdown",
      "metadata": {
        "id": "OQkuwOcKol1h",
        "colab_type": "text"
      },
      "source": [
        "#### Duplicating and renaming the same column 9 times to correspond to the 9 days we are concerned with."
      ]
    },
    {
      "cell_type": "code",
      "metadata": {
        "id": "OJ1c96o7ol1i",
        "colab_type": "code",
        "colab": {}
      },
      "source": [
        "# df1\n",
        "arr = []\n",
        "for i in range(9):\n",
        "    arr.append(df)\n",
        "newdf = pd.concat(arr, axis = 1)\n",
        "newdf.columns = [\"t-4\", \"t-3\", \"t-2\", \"t-1\", \"t\", \"t+1\", \"t+2\", \"t+3\", \"t+4\"]"
      ],
      "execution_count": 0,
      "outputs": []
    },
    {
      "cell_type": "markdown",
      "metadata": {
        "id": "vOeZOL7Qol1j",
        "colab_type": "text"
      },
      "source": [
        "#### shifting each column by a certain value depending on the day that it represents."
      ]
    },
    {
      "cell_type": "code",
      "metadata": {
        "id": "19iEtyQRol1k",
        "colab_type": "code",
        "colab": {}
      },
      "source": [
        "for i in range(9):\n",
        "    newdf[newdf.columns[8-i]] = newdf[newdf.columns[8-i]].shift(i)"
      ],
      "execution_count": 0,
      "outputs": []
    },
    {
      "cell_type": "markdown",
      "metadata": {
        "id": "LBIR5nTeol1m",
        "colab_type": "text"
      },
      "source": [
        "#### Dropping rows that have nan values"
      ]
    },
    {
      "cell_type": "code",
      "metadata": {
        "id": "R9KYk539ol1n",
        "colab_type": "code",
        "colab": {}
      },
      "source": [
        "newdf = newdf.dropna()\n",
        "dataset = newdf.values"
      ],
      "execution_count": 0,
      "outputs": []
    },
    {
      "cell_type": "markdown",
      "metadata": {
        "id": "TgPB8sfTol1o",
        "colab_type": "text"
      },
      "source": [
        "### Training\n",
        "#### Extracting the input data and the targets"
      ]
    },
    {
      "cell_type": "code",
      "metadata": {
        "id": "XJu9tShiol1p",
        "colab_type": "code",
        "colab": {}
      },
      "source": [
        "# Extracting training input values\n",
        "X = dataset[:,:5]\n",
        "# Extracting training classes values\n",
        "y = dataset[:,5:]"
      ],
      "execution_count": 0,
      "outputs": []
    },
    {
      "cell_type": "markdown",
      "metadata": {
        "id": "lHOlRl3xol1q",
        "colab_type": "text"
      },
      "source": [
        "#### Spliting data into training and testing sets\n",
        "\n",
        "Spliting the data into 80% training and 20% testing"
      ]
    },
    {
      "cell_type": "code",
      "metadata": {
        "id": "-rCrKW7wol1r",
        "colab_type": "code",
        "colab": {}
      },
      "source": [
        "X_train, X_test, y_train, y_test = train_test_split(X, y, test_size=0.2, random_state=1)"
      ],
      "execution_count": 0,
      "outputs": []
    },
    {
      "cell_type": "markdown",
      "metadata": {
        "id": "1KBNCR2Uol1t",
        "colab_type": "text"
      },
      "source": [
        "#### Creating the the training model\n",
        "SGD model"
      ]
    },
    {
      "cell_type": "code",
      "metadata": {
        "id": "pIcAuTMqol1u",
        "colab_type": "code",
        "colab": {}
      },
      "source": [
        "model_sgd = MLPRegressor(\n",
        "    hidden_layer_sizes=(32,32,32),max_iter=2000,\n",
        "    random_state=1,\n",
        "    solver='sgd',\n",
        "    learning_rate_init= 0.0000001,\n",
        "    early_stopping= True,\n",
        "    validation_fraction= 0.2)"
      ],
      "execution_count": 0,
      "outputs": []
    },
    {
      "cell_type": "markdown",
      "metadata": {
        "id": "mUe66qwZol1w",
        "colab_type": "text"
      },
      "source": [
        "Adam Model"
      ]
    },
    {
      "cell_type": "code",
      "metadata": {
        "id": "_7Bi1wSyol1x",
        "colab_type": "code",
        "colab": {}
      },
      "source": [
        "model_adam = MLPRegressor(\n",
        "    hidden_layer_sizes=(32,32,32),max_iter=2000,\n",
        "    random_state=1,\n",
        "    solver='adam',\n",
        "    learning_rate_init= 0.01,\n",
        "    early_stopping= True,\n",
        "    validation_fraction= 0.2)"
      ],
      "execution_count": 0,
      "outputs": []
    },
    {
      "cell_type": "markdown",
      "metadata": {
        "id": "jSB2n2iqol1z",
        "colab_type": "text"
      },
      "source": [
        "#### Training the models"
      ]
    },
    {
      "cell_type": "code",
      "metadata": {
        "id": "2vu5nuGyol10",
        "colab_type": "code",
        "outputId": "067dcaa6-ba74-4f52-aa5e-a451f7a9317d",
        "colab": {}
      },
      "source": [
        "model_sgd.fit(X_train,y_train)\n",
        "model_adam.fit(X_train,y_train)"
      ],
      "execution_count": 0,
      "outputs": [
        {
          "output_type": "execute_result",
          "data": {
            "text/plain": [
              "MLPRegressor(activation='relu', alpha=0.0001, batch_size='auto', beta_1=0.9,\n",
              "       beta_2=0.999, early_stopping=True, epsilon=1e-08,\n",
              "       hidden_layer_sizes=(32, 32, 32), learning_rate='constant',\n",
              "       learning_rate_init=0.01, max_iter=2000, momentum=0.9,\n",
              "       nesterovs_momentum=True, power_t=0.5, random_state=1, shuffle=True,\n",
              "       solver='adam', tol=0.0001, validation_fraction=0.2, verbose=False,\n",
              "       warm_start=False)"
            ]
          },
          "metadata": {
            "tags": []
          },
          "execution_count": 167
        }
      ]
    },
    {
      "cell_type": "markdown",
      "metadata": {
        "id": "SRuU1iWiol12",
        "colab_type": "text"
      },
      "source": [
        "#### Testing the models"
      ]
    },
    {
      "cell_type": "code",
      "metadata": {
        "id": "UfiwZsh1ol12",
        "colab_type": "code",
        "colab": {}
      },
      "source": [
        "predictions_sgd = model_sgd.predict(X_test)\n",
        "predictions_adam = model_adam.predict(X_test)"
      ],
      "execution_count": 0,
      "outputs": []
    },
    {
      "cell_type": "markdown",
      "metadata": {
        "id": "xSboc7dmol15",
        "colab_type": "text"
      },
      "source": [
        "Evaluating models using Mean Squared Error"
      ]
    },
    {
      "cell_type": "code",
      "metadata": {
        "id": "9EdeSaxbol16",
        "colab_type": "code",
        "outputId": "a69ca94c-8902-4f9f-b5e8-163ee5cf7bf7",
        "colab": {}
      },
      "source": [
        "mse_sgd = metrics.mean_squared_error(y_test, predictions_sgd)\n",
        "mse_adam = metrics.mean_squared_error(y_test, predictions_adam)\n",
        "\n",
        "print(\"SGD mse =\" ,mse_sgd)\n",
        "print(\"Adam mse =\" ,mse_adam)"
      ],
      "execution_count": 0,
      "outputs": [
        {
          "output_type": "stream",
          "text": [
            "SGD mse = 1.1914853610940406\n",
            "Adam mse = 1.1036122640239396\n"
          ],
          "name": "stdout"
        }
      ]
    },
    {
      "cell_type": "markdown",
      "metadata": {
        "id": "NdS1q-Dvol19",
        "colab_type": "text"
      },
      "source": [
        "### Visualizing the output\n",
        "#### The output of the model that used adam optmizer\n",
        "\n",
        "Using 6 samples from the test set and plotting there predicted outputs (Orange) vs actual outputs (Blue) for each day. "
      ]
    },
    {
      "cell_type": "code",
      "metadata": {
        "id": "VM64QKb8ol19",
        "colab_type": "code",
        "outputId": "f61235ee-bd20-4622-a6a2-3e3426d97838",
        "colab": {}
      },
      "source": [
        "x = []\n",
        "samples = 6\n",
        "for i in range(samples):\n",
        "    x.append(i)\n",
        "\n",
        "#print(y_test[:3])\n",
        "#print(predictions_adam[:3])\n",
        "print()\n",
        "print(\"Day 1\")\n",
        "plt.plot(x, y_test[:samples,0])\n",
        "plt.plot(x, predictions_adam[:samples,0])\n",
        "plt.show()\n",
        "print(\"Day 2\")\n",
        "plt.plot(x, y_test[:samples,1])\n",
        "plt.plot(x, predictions_adam[:samples,1])\n",
        "plt.show()\n",
        "print(\"Day 3\")\n",
        "plt.plot(x, y_test[:samples,2])\n",
        "plt.plot(x, predictions_adam[:samples,2])\n",
        "plt.show()\n",
        "print(\"Day 4\")\n",
        "plt.plot(x, y_test[:samples,3])\n",
        "plt.plot(x, predictions_adam[:samples,3])\n",
        "plt.show()"
      ],
      "execution_count": 0,
      "outputs": [
        {
          "output_type": "stream",
          "text": [
            "\n",
            "Day 1\n"
          ],
          "name": "stdout"
        },
        {
          "output_type": "display_data",
          "data": {
            "image/png": "[encoded data removed]",
            "text/plain": [
              "<matplotlib.figure.Figure at 0x658a1b9e7438>"
            ]
          },
          "metadata": {
            "tags": []
          }
        },
        {
          "output_type": "stream",
          "text": [
            "Day 2\n"
          ],
          "name": "stdout"
        },
        {
          "output_type": "display_data",
          "data": {
            "image/png": "[encoded data removed]",
            "text/plain": [
              "<matplotlib.figure.Figure at 0x658a1b85ca20>"
            ]
          },
          "metadata": {
            "tags": []
          }
        },
        {
          "output_type": "stream",
          "text": [
            "Day 3\n"
          ],
          "name": "stdout"
        },
        {
          "output_type": "display_data",
          "data": {
            "image/png": "[encoded data removed]",
            "text/plain": [
              "<matplotlib.figure.Figure at 0x658a1b7f8128>"
            ]
          },
          "metadata": {
            "tags": []
          }
        },
        {
          "output_type": "stream",
          "text": [
            "Day 4\n"
          ],
          "name": "stdout"
        },
        {
          "output_type": "display_data",
          "data": {
            "image/png": "[encoded data removed]",
            "text/plain": [
              "<matplotlib.figure.Figure at 0x658a1bb16ba8>"
            ]
          },
          "metadata": {
            "tags": []
          }
        }
      ]
    },
    {
      "cell_type": "markdown",
      "metadata": {
        "id": "n2O2nEzOol2A",
        "colab_type": "text"
      },
      "source": [
        "### Summary\n",
        "\n",
        "After several tuning and modifications we found out that the Adam optmizer is better than SGD optimizer in Task 2 with the following configurations: \n",
        "\n",
        "Learning Rate = 10^(-2) and Hidden Layer Sizes = 32x32x32. These configurations achieves lowest MSE which is (1.10) \n",
        "\n",
        "#### Justification of the similarities and differences in values.\n",
        "\n",
        "The best prediction is on the first day where the difference between predicted and actual values is not large, the prediction becomes worse each day and tha gap between predicted and actual values increases. This seems logical because each day is related to the days directly before it and those exists in the features columns, however, each day that follows the 1st day doesn't have the day directly before it in the features because it is part of the target columns."
      ]
    },
    {
      "cell_type": "code",
      "metadata": {
        "id": "cOtJTkEAol2A",
        "colab_type": "code",
        "colab": {}
      },
      "source": [
        ""
      ],
      "execution_count": 0,
      "outputs": []
    }
  ]
}